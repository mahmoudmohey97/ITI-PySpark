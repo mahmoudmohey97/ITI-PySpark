{
  "nbformat": 4,
  "nbformat_minor": 5,
  "metadata": {
    "kernelspec": {
      "display_name": "Python 3",
      "language": "python",
      "name": "python3"
    },
    "language_info": {
      "codemirror_mode": {
        "name": "ipython",
        "version": 3
      },
      "file_extension": ".py",
      "mimetype": "text/x-python",
      "name": "python",
      "nbconvert_exporter": "python",
      "pygments_lexer": "ipython3",
      "version": "3.8.8"
    },
    "colab": {
      "name": "Spark and Python for Big Data Final Exam.ipynb",
      "provenance": [],
      "collapsed_sections": [
        "974bc193",
        "59b770cb",
        "bf8c9498",
        "850bdfe1",
        "3da38a31",
        "89ce3b77",
        "053c429a",
        "78fa24da",
        "987b4b40",
        "a05c2677",
        "daec120f",
        "40206589"
      ]
    }
  },
  "cells": [
    {
      "cell_type": "markdown",
      "metadata": {
        "id": "abbf1e33"
      },
      "source": [
        "##### **Good luck with taking your exam. Keep working and make your dreams all come true. Seeing the results of all of your hard work will make this struggle worth it. We’re all thinking of you.** \n",
        "<b><font color='blue'>AI-PRO Spark Team ITI</font></b>"
      ],
      "id": "abbf1e33"
    },
    {
      "cell_type": "markdown",
      "metadata": {
        "id": "8326ba88"
      },
      "source": [
        "## Objective:\n",
        "- The objective from this project is to create a <b>Logistic Regression Classifier</b> to predict the <b>Stroke Condition</b>.\n",
        "- <b>Stoke</b> is a condition in which either the blood flow to the brain stops or blood flow is excessive.\n",
        "- It is required to obtain <b>ROC > 0.65</b>."
      ],
      "id": "8326ba88"
    },
    {
      "cell_type": "markdown",
      "metadata": {
        "id": "0eb78c16"
      },
      "source": [
        "### Data:\n",
        "- Data is provided in csv format in a file named <b>healthcare-dataset-stroke-data.csv</b>"
      ],
      "id": "0eb78c16"
    },
    {
      "cell_type": "markdown",
      "metadata": {
        "id": "7c842b79"
      },
      "source": [
        "### Column names and data types are as follow:\n",
        "- id, integer.\n",
        "- gender, string.\n",
        "- age, double.\n",
        "- hypertension, integer.\n",
        "- heart_disease, integer.\n",
        "- ever_married, string.\n",
        "- work_type, string.\n",
        "- Residence_type, string.\n",
        "- avg_glucose_level, double.\n",
        "- bmi, double.\n",
        "- smoking_status, string.\n",
        "- stroke, integer <b>(Target Label)</b>.\n",
        "If the person has stroke the stroke label value is <b>\"1\"</b> otherwise <b>\"0\"</b>."
      ],
      "id": "7c842b79"
    },
    {
      "cell_type": "markdown",
      "metadata": {
        "id": "6971f788"
      },
      "source": [
        "## To perform this task follow the following guiding steps:"
      ],
      "id": "6971f788"
    },
    {
      "cell_type": "markdown",
      "metadata": {
        "id": "e31bc851"
      },
      "source": [
        "### Create a spark session and import the required libraries"
      ],
      "id": "e31bc851"
    },
    {
      "cell_type": "code",
      "metadata": {
        "id": "ab3ba311"
      },
      "source": [
        "!pwd\n",
        "! wget https://archive.apache.org/dist/spark/spark-3.0.1/spark-3.0.1-bin-hadoop3.2.tgz\n",
        "!tar -xvzf spark-3.0.1-bin-hadoop3.2.tgz\n",
        "!pip install findspark"
      ],
      "id": "ab3ba311",
      "execution_count": null,
      "outputs": []
    },
    {
      "cell_type": "code",
      "metadata": {
        "id": "-Hk58E2xsZ0a"
      },
      "source": [
        "import os\n",
        "import findspark\n",
        "\n",
        "os.environ[\"SPARK_HOME\"] = \"/content/spark-3.0.1-bin-hadoop3.2\"\n",
        "findspark.init()"
      ],
      "id": "-Hk58E2xsZ0a",
      "execution_count": null,
      "outputs": []
    },
    {
      "cell_type": "code",
      "metadata": {
        "id": "5I5Ul4t-sdEH"
      },
      "source": [
        "from pyspark.sql import SparkSession\n",
        "import pyspark.sql.functions as f"
      ],
      "id": "5I5Ul4t-sdEH",
      "execution_count": null,
      "outputs": []
    },
    {
      "cell_type": "code",
      "metadata": {
        "id": "O8eRuFX_sfSt"
      },
      "source": [
        "spark = SparkSession.builder.appName('practical').getOrCreate()"
      ],
      "id": "O8eRuFX_sfSt",
      "execution_count": null,
      "outputs": []
    },
    {
      "cell_type": "markdown",
      "metadata": {
        "id": "843b8468"
      },
      "source": [
        "### Create a data schema programatically"
      ],
      "id": "843b8468"
    },
    {
      "cell_type": "code",
      "metadata": {
        "id": "8616fe16"
      },
      "source": [
        "from pyspark.sql.types import StructType,StructField, StringType, IntegerType, FloatType\n",
        "schema = StructType([ \\\n",
        "    StructField(\"id\",IntegerType(),True), \\\n",
        "    StructField(\"gender\",StringType(),True), \\\n",
        "    StructField(\"age\",FloatType(),True), \\\n",
        "    StructField(\"hypertension\", IntegerType(), True), \\\n",
        "    StructField(\"heart_disease\", IntegerType(), True), \\\n",
        "    StructField(\"ever_married\", StringType(), True), \\\n",
        "    StructField(\"work_type\", StringType(), True), \\\n",
        "    StructField(\"Residence_type\", StringType(), True), \\\n",
        "    StructField(\"avg_glucose_level\", FloatType(), True), \\\n",
        "    StructField(\"bmi\", FloatType(), True), \\\n",
        "    StructField(\"smoking_status\", StringType(), True), \\\n",
        "    StructField(\"stroke\", IntegerType(), True) \\\n",
        "  ])\n",
        " "
      ],
      "id": "8616fe16",
      "execution_count": null,
      "outputs": []
    },
    {
      "cell_type": "markdown",
      "metadata": {
        "id": "2d00718f"
      },
      "source": [
        "### Read the data using the standard DataReader (Key,Value) pairs format\n",
        "- Provide the schema and any other required options."
      ],
      "id": "2d00718f"
    },
    {
      "cell_type": "code",
      "metadata": {
        "id": "61fcc4cd"
      },
      "source": [
        "df = spark.read.csv('healthcare-dataset-stroke-data.csv', schema=schema, header=True)"
      ],
      "id": "61fcc4cd",
      "execution_count": null,
      "outputs": []
    },
    {
      "cell_type": "markdown",
      "metadata": {
        "id": "974bc193"
      },
      "source": [
        "### Explore the data \n",
        "#### You have to do the following:\n",
        "- Print the Schema.\n",
        "- Show the first 10 rows from the data.\n",
        "- Explore null values and show how many null values in each column.\n",
        "- Plot a count plot for the target label and <b>notice the graph</b>.\n",
        "- Perform any additional EDA you find useful."
      ],
      "id": "974bc193"
    },
    {
      "cell_type": "code",
      "metadata": {
        "id": "353b6f34",
        "colab": {
          "base_uri": "https://localhost:8080/"
        },
        "outputId": "f2265163-3f66-44ba-e588-8a513d178d8e"
      },
      "source": [
        "df.printSchema()"
      ],
      "id": "353b6f34",
      "execution_count": null,
      "outputs": [
        {
          "output_type": "stream",
          "name": "stdout",
          "text": [
            "root\n",
            " |-- id: integer (nullable = true)\n",
            " |-- gender: string (nullable = true)\n",
            " |-- age: float (nullable = true)\n",
            " |-- hypertension: integer (nullable = true)\n",
            " |-- heart_disease: integer (nullable = true)\n",
            " |-- ever_married: string (nullable = true)\n",
            " |-- work_type: string (nullable = true)\n",
            " |-- Residence_type: string (nullable = true)\n",
            " |-- avg_glucose_level: float (nullable = true)\n",
            " |-- bmi: float (nullable = true)\n",
            " |-- smoking_status: string (nullable = true)\n",
            " |-- stroke: integer (nullable = true)\n",
            "\n"
          ]
        }
      ]
    },
    {
      "cell_type": "code",
      "metadata": {
        "id": "6fb198f0",
        "colab": {
          "base_uri": "https://localhost:8080/"
        },
        "outputId": "ed748675-7e79-44d1-904c-c91153645eea"
      },
      "source": [
        "df.head(10)"
      ],
      "id": "6fb198f0",
      "execution_count": null,
      "outputs": [
        {
          "output_type": "execute_result",
          "data": {
            "text/plain": [
              "[Row(id=9046, gender='Male', age=67.0, hypertension=0, heart_disease=1, ever_married='Yes', work_type='Private', Residence_type='Urban', avg_glucose_level=228.69000244140625, bmi=36.599998474121094, smoking_status='formerly smoked', stroke=1),\n",
              " Row(id=51676, gender='Female', age=61.0, hypertension=0, heart_disease=0, ever_married='Yes', work_type='Self-employed', Residence_type='Rural', avg_glucose_level=202.2100067138672, bmi=None, smoking_status='never smoked', stroke=1),\n",
              " Row(id=31112, gender='Male', age=80.0, hypertension=0, heart_disease=1, ever_married='Yes', work_type='Private', Residence_type='Rural', avg_glucose_level=105.91999816894531, bmi=32.5, smoking_status='never smoked', stroke=1),\n",
              " Row(id=60182, gender='Female', age=49.0, hypertension=0, heart_disease=0, ever_married='Yes', work_type='Private', Residence_type='Urban', avg_glucose_level=171.22999572753906, bmi=34.400001525878906, smoking_status='smokes', stroke=1),\n",
              " Row(id=1665, gender='Female', age=79.0, hypertension=1, heart_disease=0, ever_married='Yes', work_type='Self-employed', Residence_type='Rural', avg_glucose_level=174.1199951171875, bmi=24.0, smoking_status='never smoked', stroke=1),\n",
              " Row(id=56669, gender='Male', age=81.0, hypertension=0, heart_disease=0, ever_married='Yes', work_type='Private', Residence_type='Urban', avg_glucose_level=186.2100067138672, bmi=29.0, smoking_status='formerly smoked', stroke=1),\n",
              " Row(id=53882, gender='Male', age=74.0, hypertension=1, heart_disease=1, ever_married='Yes', work_type='Private', Residence_type='Rural', avg_glucose_level=70.08999633789062, bmi=27.399999618530273, smoking_status='never smoked', stroke=1),\n",
              " Row(id=10434, gender='Female', age=69.0, hypertension=0, heart_disease=0, ever_married='No', work_type='Private', Residence_type='Urban', avg_glucose_level=94.38999938964844, bmi=22.799999237060547, smoking_status='never smoked', stroke=1),\n",
              " Row(id=27419, gender='Female', age=59.0, hypertension=0, heart_disease=0, ever_married='Yes', work_type='Private', Residence_type='Rural', avg_glucose_level=76.1500015258789, bmi=None, smoking_status='Unknown', stroke=1),\n",
              " Row(id=60491, gender='Female', age=78.0, hypertension=0, heart_disease=0, ever_married='Yes', work_type='Private', Residence_type='Urban', avg_glucose_level=58.56999969482422, bmi=24.200000762939453, smoking_status='Unknown', stroke=1)]"
            ]
          },
          "metadata": {},
          "execution_count": 249
        }
      ]
    },
    {
      "cell_type": "code",
      "metadata": {
        "colab": {
          "base_uri": "https://localhost:8080/"
        },
        "id": "NNt2xlLNvuOv",
        "outputId": "560e216b-eca0-49e6-b24d-85492249a7c7"
      },
      "source": [
        "temp_df = df.select([f.count(f.when(f.isnan(col) | f.col(col).isNull(), col)).alias(col) for col in df.columns])\n",
        "temp_df.show()"
      ],
      "id": "NNt2xlLNvuOv",
      "execution_count": null,
      "outputs": [
        {
          "output_type": "stream",
          "name": "stdout",
          "text": [
            "+---+------+---+------------+-------------+------------+---------+--------------+-----------------+---+--------------+------+\n",
            "| id|gender|age|hypertension|heart_disease|ever_married|work_type|Residence_type|avg_glucose_level|bmi|smoking_status|stroke|\n",
            "+---+------+---+------------+-------------+------------+---------+--------------+-----------------+---+--------------+------+\n",
            "|  0|     0|  0|           0|            0|           0|        0|             0|                0|201|             0|     0|\n",
            "+---+------+---+------------+-------------+------------+---------+--------------+-----------------+---+--------------+------+\n",
            "\n"
          ]
        }
      ]
    },
    {
      "cell_type": "code",
      "metadata": {
        "colab": {
          "base_uri": "https://localhost:8080/"
        },
        "id": "ZjkD7600waQ7",
        "outputId": "5c19097b-f9e8-483d-e965-01571926f389"
      },
      "source": [
        "print((df.count(), len(df.columns)))"
      ],
      "id": "ZjkD7600waQ7",
      "execution_count": null,
      "outputs": [
        {
          "output_type": "stream",
          "name": "stdout",
          "text": [
            "(5110, 12)\n"
          ]
        }
      ]
    },
    {
      "cell_type": "code",
      "metadata": {
        "id": "FCG5I_c9xGn1"
      },
      "source": [
        "not_stroke_count = df.filter(df['stroke'] == 0).count()\n",
        "stroke_count = df.count() - not_stroke_count"
      ],
      "id": "FCG5I_c9xGn1",
      "execution_count": null,
      "outputs": []
    },
    {
      "cell_type": "code",
      "metadata": {
        "colab": {
          "base_uri": "https://localhost:8080/",
          "height": 354
        },
        "id": "16Hf9FSKwr1L",
        "outputId": "6512d9c9-4893-44cf-a48a-52dd96d3aa6d"
      },
      "source": [
        "import seaborn as sns\n",
        "ax = sns.barplot([0,1], y= [not_stroke_count, stroke_count])\n",
        "ax.set(xlabel=\"Stroke\", ylabel = \"Count\")"
      ],
      "id": "16Hf9FSKwr1L",
      "execution_count": null,
      "outputs": [
        {
          "output_type": "stream",
          "name": "stderr",
          "text": [
            "/usr/local/lib/python3.7/dist-packages/seaborn/_decorators.py:43: FutureWarning: Pass the following variable as a keyword arg: x. From version 0.12, the only valid positional argument will be `data`, and passing other arguments without an explicit keyword will result in an error or misinterpretation.\n",
            "  FutureWarning\n"
          ]
        },
        {
          "output_type": "execute_result",
          "data": {
            "text/plain": [
              "[Text(0, 0.5, 'Count'), Text(0.5, 0, 'Stroke')]"
            ]
          },
          "metadata": {},
          "execution_count": 331
        },
        {
          "output_type": "display_data",
          "data": {
            "image/png": "[encoded data removed]",
            "text/plain": [
              "<Figure size 432x288 with 1 Axes>"
            ]
          },
          "metadata": {
            "needs_background": "light"
          }
        }
      ]
    },
    {
      "cell_type": "markdown",
      "metadata": {
        "id": "59b770cb"
      },
      "source": [
        "### Get the summary statistics of the age column\n",
        "- You will find the minimum age is about <b>0.08</b>.\n",
        "- Remove rows for the age below <b>2 years old</b>."
      ],
      "id": "59b770cb"
    },
    {
      "cell_type": "code",
      "metadata": {
        "colab": {
          "base_uri": "https://localhost:8080/"
        },
        "id": "DMeBtAeizD-s",
        "outputId": "316ef65d-d308-4438-c1f8-0098dd5a9245"
      },
      "source": [
        "df.select(['age']).summary().show()"
      ],
      "id": "DMeBtAeizD-s",
      "execution_count": null,
      "outputs": [
        {
          "output_type": "stream",
          "name": "stdout",
          "text": [
            "+-------+-----------------+\n",
            "|summary|              age|\n",
            "+-------+-----------------+\n",
            "|  count|             5110|\n",
            "|   mean|43.22661448143525|\n",
            "| stddev|22.61264672306245|\n",
            "|    min|             0.08|\n",
            "|    25%|             25.0|\n",
            "|    50%|             45.0|\n",
            "|    75%|             61.0|\n",
            "|    max|             82.0|\n",
            "+-------+-----------------+\n",
            "\n"
          ]
        }
      ]
    },
    {
      "cell_type": "code",
      "metadata": {
        "colab": {
          "base_uri": "https://localhost:8080/"
        },
        "id": "RcSfptYX14CT",
        "outputId": "4927a403-5394-4a9c-e69d-7b733a0a7027"
      },
      "source": [
        "df.show()"
      ],
      "id": "RcSfptYX14CT",
      "execution_count": null,
      "outputs": [
        {
          "output_type": "stream",
          "name": "stdout",
          "text": [
            "+-----+------+----+------------+-------------+------------+-------------+--------------+-----------------+----+---------------+------+\n",
            "|   id|gender| age|hypertension|heart_disease|ever_married|    work_type|Residence_type|avg_glucose_level| bmi| smoking_status|stroke|\n",
            "+-----+------+----+------------+-------------+------------+-------------+--------------+-----------------+----+---------------+------+\n",
            "| 9046|  Male|67.0|           0|            1|         Yes|      Private|         Urban|           228.69|36.6|formerly smoked|     1|\n",
            "|51676|Female|61.0|           0|            0|         Yes|Self-employed|         Rural|           202.21|null|   never smoked|     1|\n",
            "|31112|  Male|80.0|           0|            1|         Yes|      Private|         Rural|           105.92|32.5|   never smoked|     1|\n",
            "|60182|Female|49.0|           0|            0|         Yes|      Private|         Urban|           171.23|34.4|         smokes|     1|\n",
            "| 1665|Female|79.0|           1|            0|         Yes|Self-employed|         Rural|           174.12|24.0|   never smoked|     1|\n",
            "|56669|  Male|81.0|           0|            0|         Yes|      Private|         Urban|           186.21|29.0|formerly smoked|     1|\n",
            "|53882|  Male|74.0|           1|            1|         Yes|      Private|         Rural|            70.09|27.4|   never smoked|     1|\n",
            "|10434|Female|69.0|           0|            0|          No|      Private|         Urban|            94.39|22.8|   never smoked|     1|\n",
            "|27419|Female|59.0|           0|            0|         Yes|      Private|         Rural|            76.15|null|        Unknown|     1|\n",
            "|60491|Female|78.0|           0|            0|         Yes|      Private|         Urban|            58.57|24.2|        Unknown|     1|\n",
            "|12109|Female|81.0|           1|            0|         Yes|      Private|         Rural|            80.43|29.7|   never smoked|     1|\n",
            "|12095|Female|61.0|           0|            1|         Yes|     Govt_job|         Rural|           120.46|36.8|         smokes|     1|\n",
            "|12175|Female|54.0|           0|            0|         Yes|      Private|         Urban|           104.51|27.3|         smokes|     1|\n",
            "| 8213|  Male|78.0|           0|            1|         Yes|      Private|         Urban|           219.84|null|        Unknown|     1|\n",
            "| 5317|Female|79.0|           0|            1|         Yes|      Private|         Urban|           214.09|28.2|   never smoked|     1|\n",
            "|58202|Female|50.0|           1|            0|         Yes|Self-employed|         Rural|           167.41|30.9|   never smoked|     1|\n",
            "|56112|  Male|64.0|           0|            1|         Yes|      Private|         Urban|           191.61|37.5|         smokes|     1|\n",
            "|34120|  Male|75.0|           1|            0|         Yes|      Private|         Urban|           221.29|25.8|         smokes|     1|\n",
            "|27458|Female|60.0|           0|            0|          No|      Private|         Urban|            89.22|37.8|   never smoked|     1|\n",
            "|25226|  Male|57.0|           0|            1|          No|     Govt_job|         Urban|           217.08|null|        Unknown|     1|\n",
            "+-----+------+----+------------+-------------+------------+-------------+--------------+-----------------+----+---------------+------+\n",
            "only showing top 20 rows\n",
            "\n"
          ]
        }
      ]
    },
    {
      "cell_type": "code",
      "metadata": {
        "id": "cc99c0be"
      },
      "source": [
        "df = df.filter(df['age'] >= 2)"
      ],
      "id": "cc99c0be",
      "execution_count": null,
      "outputs": []
    },
    {
      "cell_type": "markdown",
      "metadata": {
        "id": "bf8c9498"
      },
      "source": [
        "### Working with gender & smoking_status columns:\n",
        "- Select and show the gender & smoking_status columns\n",
        "- Get the distinct values for each column."
      ],
      "id": "bf8c9498"
    },
    {
      "cell_type": "code",
      "metadata": {
        "colab": {
          "base_uri": "https://localhost:8080/"
        },
        "id": "Smaxt2UP0juq",
        "outputId": "55c147be-f0d5-44bc-8845-be42610604cd"
      },
      "source": [
        "df.select('gender', 'smoking_status').show()"
      ],
      "id": "Smaxt2UP0juq",
      "execution_count": null,
      "outputs": [
        {
          "output_type": "stream",
          "name": "stdout",
          "text": [
            "+------+---------------+\n",
            "|gender| smoking_status|\n",
            "+------+---------------+\n",
            "|  Male|formerly smoked|\n",
            "|Female|   never smoked|\n",
            "|  Male|   never smoked|\n",
            "|Female|         smokes|\n",
            "|Female|   never smoked|\n",
            "|  Male|formerly smoked|\n",
            "|  Male|   never smoked|\n",
            "|Female|   never smoked|\n",
            "|Female|        Unknown|\n",
            "|Female|        Unknown|\n",
            "|Female|   never smoked|\n",
            "|Female|         smokes|\n",
            "|Female|         smokes|\n",
            "|  Male|        Unknown|\n",
            "|Female|   never smoked|\n",
            "|Female|   never smoked|\n",
            "|  Male|         smokes|\n",
            "|  Male|         smokes|\n",
            "|Female|   never smoked|\n",
            "|  Male|        Unknown|\n",
            "+------+---------------+\n",
            "only showing top 20 rows\n",
            "\n"
          ]
        }
      ]
    },
    {
      "cell_type": "code",
      "metadata": {
        "colab": {
          "base_uri": "https://localhost:8080/"
        },
        "id": "tATz8kUh2ZyN",
        "outputId": "9a6a2399-3d60-41e0-e0fe-1841a552acd3"
      },
      "source": [
        "df.select('gender').distinct().show()"
      ],
      "id": "tATz8kUh2ZyN",
      "execution_count": null,
      "outputs": [
        {
          "output_type": "stream",
          "name": "stdout",
          "text": [
            "+------+\n",
            "|gender|\n",
            "+------+\n",
            "|Female|\n",
            "| Other|\n",
            "|  Male|\n",
            "+------+\n",
            "\n"
          ]
        }
      ]
    },
    {
      "cell_type": "code",
      "metadata": {
        "id": "9dfe35a4",
        "colab": {
          "base_uri": "https://localhost:8080/"
        },
        "outputId": "ed047541-7da4-4d6a-cdf1-7792255fcf65"
      },
      "source": [
        "df.select('smoking_status').distinct().show()"
      ],
      "id": "9dfe35a4",
      "execution_count": null,
      "outputs": [
        {
          "output_type": "stream",
          "name": "stdout",
          "text": [
            "+---------------+\n",
            "| smoking_status|\n",
            "+---------------+\n",
            "|         smokes|\n",
            "|        Unknown|\n",
            "|   never smoked|\n",
            "|formerly smoked|\n",
            "+---------------+\n",
            "\n"
          ]
        }
      ]
    },
    {
      "cell_type": "markdown",
      "metadata": {
        "id": "850bdfe1"
      },
      "source": [
        "#### Change the string values of the columns into numerical values as follow:\n",
        "1. Gender column:\n",
        "    * Male = 1 \n",
        "    * Female = 0 \n",
        "    * Other = 0 \n",
        "2. Smoking Status column:\n",
        "  * never smoked = 0\n",
        "  * Unknown = 0.5\n",
        "  * formerly smoked = 0.75\n",
        "  * smokes = 1.0\n"
      ],
      "id": "850bdfe1"
    },
    {
      "cell_type": "code",
      "metadata": {
        "id": "355f2ef0"
      },
      "source": [
        "gender_mapping = {'Male':1, 'Female':1, 'Other':0}\n",
        "\n",
        "smoking_mapping = {'never smoked' : 0,\n",
        "'Unknown' : 0.5,\n",
        "'formerly smoked' : 0.75,\n",
        "'smokes' : 1.0}"
      ],
      "id": "355f2ef0",
      "execution_count": null,
      "outputs": []
    },
    {
      "cell_type": "code",
      "metadata": {
        "id": "Rax5-dv93OdZ"
      },
      "source": [
        "from pyspark.sql.functions import when\n",
        "df_temp = df.withColumn(\"gender\", when(df.gender == \"Male\",1) \\\n",
        "      .when(df.gender == \"Female\",0) \\\n",
        "      .otherwise(0))"
      ],
      "id": "Rax5-dv93OdZ",
      "execution_count": null,
      "outputs": []
    },
    {
      "cell_type": "code",
      "metadata": {
        "id": "MM4zt89I441B"
      },
      "source": [
        "from pyspark.sql.functions import when\n",
        "df = df_temp.withColumn(\"smoking_status\", when(df.smoking_status == 'never smoked', 0) \\\n",
        "      .when(df.smoking_status == 'Unknown' , 0.5) \\\n",
        "      .when(df.smoking_status == 'formerly smoked', 0.75)\\\n",
        "      .otherwise(1))"
      ],
      "id": "MM4zt89I441B",
      "execution_count": null,
      "outputs": []
    },
    {
      "cell_type": "markdown",
      "metadata": {
        "id": "3da38a31"
      },
      "source": [
        "#### Show the output DataFrame\n",
        "- Select and show the gender & smoking_status columns after value changing.\n",
        "- Print schema for the new dataframe."
      ],
      "id": "3da38a31"
    },
    {
      "cell_type": "code",
      "metadata": {
        "colab": {
          "base_uri": "https://localhost:8080/"
        },
        "id": "j2pQgOAh5wUv",
        "outputId": "a1ef386c-d44b-4a71-be8c-19e389a6aacf"
      },
      "source": [
        "df.select('gender', 'smoking_status').show()"
      ],
      "id": "j2pQgOAh5wUv",
      "execution_count": null,
      "outputs": [
        {
          "output_type": "stream",
          "name": "stdout",
          "text": [
            "+------+--------------+\n",
            "|gender|smoking_status|\n",
            "+------+--------------+\n",
            "|     1|          0.75|\n",
            "|     0|           0.0|\n",
            "|     1|           0.0|\n",
            "|     0|           1.0|\n",
            "|     0|           0.0|\n",
            "|     1|          0.75|\n",
            "|     1|           0.0|\n",
            "|     0|           0.0|\n",
            "|     0|           0.5|\n",
            "|     0|           0.5|\n",
            "|     0|           0.0|\n",
            "|     0|           1.0|\n",
            "|     0|           1.0|\n",
            "|     1|           0.5|\n",
            "|     0|           0.0|\n",
            "|     0|           0.0|\n",
            "|     1|           1.0|\n",
            "|     1|           1.0|\n",
            "|     0|           0.0|\n",
            "|     1|           0.5|\n",
            "+------+--------------+\n",
            "only showing top 20 rows\n",
            "\n"
          ]
        }
      ]
    },
    {
      "cell_type": "code",
      "metadata": {
        "colab": {
          "base_uri": "https://localhost:8080/"
        },
        "id": "BcYjE2V--CDE",
        "outputId": "9f46d137-958f-4c29-86f9-08bece534014"
      },
      "source": [
        "df.printSchema()"
      ],
      "id": "BcYjE2V--CDE",
      "execution_count": null,
      "outputs": [
        {
          "output_type": "stream",
          "name": "stdout",
          "text": [
            "root\n",
            " |-- id: integer (nullable = true)\n",
            " |-- gender: integer (nullable = false)\n",
            " |-- age: float (nullable = true)\n",
            " |-- hypertension: integer (nullable = true)\n",
            " |-- heart_disease: integer (nullable = true)\n",
            " |-- ever_married: string (nullable = true)\n",
            " |-- work_type: string (nullable = true)\n",
            " |-- Residence_type: string (nullable = true)\n",
            " |-- avg_glucose_level: float (nullable = true)\n",
            " |-- bmi: float (nullable = true)\n",
            " |-- smoking_status: double (nullable = false)\n",
            " |-- stroke: integer (nullable = true)\n",
            "\n"
          ]
        }
      ]
    },
    {
      "cell_type": "markdown",
      "metadata": {
        "id": "89ce3b77"
      },
      "source": [
        "### Deal with null value according to your data analysis."
      ],
      "id": "89ce3b77"
    },
    {
      "cell_type": "code",
      "metadata": {
        "id": "097pvGVH6anc"
      },
      "source": [
        "bmi_mean = round(df.agg(f.avg('bmi')).collect()[0][0],2)"
      ],
      "id": "097pvGVH6anc",
      "execution_count": null,
      "outputs": []
    },
    {
      "cell_type": "code",
      "metadata": {
        "colab": {
          "base_uri": "https://localhost:8080/"
        },
        "id": "CQCoQqUD7LE8",
        "outputId": "8f2980d6-88ca-4b7d-e82f-40f0596acc08"
      },
      "source": [
        "bmi_mean"
      ],
      "id": "CQCoQqUD7LE8",
      "execution_count": null,
      "outputs": [
        {
          "output_type": "execute_result",
          "data": {
            "text/plain": [
              "29.14"
            ]
          },
          "metadata": {},
          "execution_count": 266
        }
      ]
    },
    {
      "cell_type": "code",
      "metadata": {
        "id": "4d78cb87"
      },
      "source": [
        "df = df.na.fill(bmi_mean,['bmi'])"
      ],
      "id": "4d78cb87",
      "execution_count": null,
      "outputs": []
    },
    {
      "cell_type": "markdown",
      "metadata": {
        "id": "053c429a"
      },
      "source": [
        "### Split the data into training and test dataframes:\n",
        "- 80% training and 20% test.\n",
        "- seed = 42.\n",
        "- Save each dataframe as a parquet file"
      ],
      "id": "053c429a"
    },
    {
      "cell_type": "code",
      "metadata": {
        "id": "0236ea8b",
        "colab": {
          "base_uri": "https://localhost:8080/"
        },
        "outputId": "3c5191bf-870c-46bb-da15-529dc68fb157"
      },
      "source": [
        "train_df, test_df = df.randomSplit([.8,.2],seed=42)\n",
        "print(f\"There are {train_df.count()} rows in the training set, and {test_df.count()} in the test set\")"
      ],
      "id": "0236ea8b",
      "execution_count": null,
      "outputs": [
        {
          "output_type": "stream",
          "name": "stdout",
          "text": [
            "There are 4037 rows in the training set, and 953 in the test set\n"
          ]
        }
      ]
    },
    {
      "cell_type": "code",
      "metadata": {
        "id": "q-ZzXbB189An"
      },
      "source": [
        "train_df.write.parquet(\"train.parquet\",  mode = 'overwrite')\n",
        "test_df.write.parquet(\"test.parquet\",  mode = 'overwrite')"
      ],
      "id": "q-ZzXbB189An",
      "execution_count": null,
      "outputs": []
    },
    {
      "cell_type": "markdown",
      "metadata": {
        "id": "78fa24da"
      },
      "source": [
        "### Read the saved Train and Test DataFrame:\n",
        "- Use the dataframes you read in the subsequent steps."
      ],
      "id": "78fa24da"
    },
    {
      "cell_type": "code",
      "metadata": {
        "id": "c3f5c1e3"
      },
      "source": [
        "train_df = spark.read.parquet('train.parquet')\n",
        "test_df = spark.read.parquet('test.parquet')"
      ],
      "id": "c3f5c1e3",
      "execution_count": null,
      "outputs": []
    },
    {
      "cell_type": "markdown",
      "metadata": {
        "id": "987b4b40"
      },
      "source": [
        "### Create the model:\n",
        "- Perform feature engineering steps.\n",
        "- Create the logistic regression classifier.\n",
        "- Build the pipeline model that uses all feature engineering steps and the model.\n",
        "- Train the pipeline model using the trainig dataset."
      ],
      "id": "987b4b40"
    },
    {
      "cell_type": "code",
      "metadata": {
        "id": "jAbUCLcw-xSa"
      },
      "source": [
        "import pyspark.ml.feature as ml\n",
        "from pyspark.ml import Pipeline\n",
        "from pyspark.ml.classification import LogisticRegression"
      ],
      "id": "jAbUCLcw-xSa",
      "execution_count": null,
      "outputs": []
    },
    {
      "cell_type": "code",
      "metadata": {
        "id": "3278e362",
        "colab": {
          "base_uri": "https://localhost:8080/"
        },
        "outputId": "a3e8773a-f195-41e6-bd91-e6809a724518"
      },
      "source": [
        "categorical_cols  = ['ever_married', 'work_type', 'Residence_type']\n",
        "index_output_cols = [x + \"_Index\" for x in categorical_cols]\n",
        "index_output_cols"
      ],
      "id": "3278e362",
      "execution_count": null,
      "outputs": [
        {
          "output_type": "execute_result",
          "data": {
            "text/plain": [
              "['ever_married_Index', 'work_type_Index', 'Residence_type_Index']"
            ]
          },
          "metadata": {},
          "execution_count": 299
        }
      ]
    },
    {
      "cell_type": "code",
      "metadata": {
        "id": "4e41b352",
        "colab": {
          "base_uri": "https://localhost:8080/"
        },
        "outputId": "a764e9cf-143b-4b80-e79c-555283d78b0e"
      },
      "source": [
        "ohe_output_cols = [x + \"_OHE\" for x in categorical_cols]\n",
        "ohe_output_cols"
      ],
      "id": "4e41b352",
      "execution_count": null,
      "outputs": [
        {
          "output_type": "execute_result",
          "data": {
            "text/plain": [
              "['ever_married_OHE', 'work_type_OHE', 'Residence_type_OHE']"
            ]
          },
          "metadata": {},
          "execution_count": 300
        }
      ]
    },
    {
      "cell_type": "code",
      "metadata": {
        "id": "106453d7"
      },
      "source": [
        "string_indexer = ml.StringIndexer(inputCols=categorical_cols, outputCols=index_output_cols)"
      ],
      "id": "106453d7",
      "execution_count": null,
      "outputs": []
    },
    {
      "cell_type": "code",
      "metadata": {
        "id": "7vDFvHhl-6fD"
      },
      "source": [
        "one_encoder = ml.OneHotEncoder(inputCols=index_output_cols, outputCols=ohe_output_cols)"
      ],
      "id": "7vDFvHhl-6fD",
      "execution_count": null,
      "outputs": []
    },
    {
      "cell_type": "code",
      "metadata": {
        "colab": {
          "base_uri": "https://localhost:8080/"
        },
        "id": "0lhwlElR-_PC",
        "outputId": "d2dfe959-61c8-433f-c994-2212c681e571"
      },
      "source": [
        "numerical_cols =[field for (field,dataType) in df.dtypes\n",
        "              if ((dataType!='string')& (field not in ['id', 'stroke', 'weightCol']))]\n",
        "numerical_cols"
      ],
      "id": "0lhwlElR-_PC",
      "execution_count": null,
      "outputs": [
        {
          "output_type": "execute_result",
          "data": {
            "text/plain": [
              "['gender',\n",
              " 'age',\n",
              " 'hypertension',\n",
              " 'heart_disease',\n",
              " 'avg_glucose_level',\n",
              " 'bmi',\n",
              " 'smoking_status']"
            ]
          },
          "metadata": {},
          "execution_count": 303
        }
      ]
    },
    {
      "cell_type": "code",
      "metadata": {
        "colab": {
          "base_uri": "https://localhost:8080/"
        },
        "id": "yfhDuaMF_cyN",
        "outputId": "e6efef81-dffb-4859-f99c-bc27831064c5"
      },
      "source": [
        "mixed_features = ohe_output_cols + numerical_cols\n",
        "mixed_features"
      ],
      "id": "yfhDuaMF_cyN",
      "execution_count": null,
      "outputs": [
        {
          "output_type": "execute_result",
          "data": {
            "text/plain": [
              "['ever_married_OHE',\n",
              " 'work_type_OHE',\n",
              " 'Residence_type_OHE',\n",
              " 'gender',\n",
              " 'age',\n",
              " 'hypertension',\n",
              " 'heart_disease',\n",
              " 'avg_glucose_level',\n",
              " 'bmi',\n",
              " 'smoking_status']"
            ]
          },
          "metadata": {},
          "execution_count": 304
        }
      ]
    },
    {
      "cell_type": "code",
      "metadata": {
        "colab": {
          "base_uri": "https://localhost:8080/"
        },
        "id": "OrZ-UDZtDxUm",
        "outputId": "05e5a395-8117-40c3-d0b0-17f4426b460e"
      },
      "source": [
        "train_df.show()"
      ],
      "id": "OrZ-UDZtDxUm",
      "execution_count": null,
      "outputs": [
        {
          "output_type": "stream",
          "name": "stdout",
          "text": [
            "+---+------+----+------------+-------------+------------+-------------+--------------+-----------------+-----+--------------+------+\n",
            "| id|gender| age|hypertension|heart_disease|ever_married|    work_type|Residence_type|avg_glucose_level|  bmi|smoking_status|stroke|\n",
            "+---+------+----+------------+-------------+------------+-------------+--------------+-----------------+-----+--------------+------+\n",
            "| 67|     0|17.0|           0|            0|          No|      Private|         Urban|            92.97|29.14|          0.75|     0|\n",
            "| 77|     0|13.0|           0|            0|          No|     children|         Rural|            85.81| 18.6|           0.5|     0|\n",
            "| 91|     0|42.0|           0|            0|          No|      Private|         Urban|            98.53| 18.5|           0.0|     0|\n",
            "| 99|     0|31.0|           0|            0|          No|      Private|         Urban|           108.89| 52.3|           0.5|     0|\n",
            "|121|     0|38.0|           0|            0|         Yes|      Private|         Urban|            91.44|29.14|           0.5|     0|\n",
            "|132|     0|80.0|           0|            0|         Yes|     Govt_job|         Urban|            84.86|29.14|           0.5|     0|\n",
            "|163|     0|20.0|           0|            0|          No|      Private|         Rural|            94.67| 28.8|           0.5|     0|\n",
            "|170|     1|43.0|           0|            0|         Yes|     Govt_job|         Rural|            80.07|29.14|           0.0|     0|\n",
            "|172|     1| 8.0|           0|            0|          No|     children|         Urban|            78.76|29.14|           0.5|     0|\n",
            "|187|     0|20.0|           0|            0|          No|      Private|         Rural|            84.07| 27.6|           1.0|     0|\n",
            "|210|     1|81.0|           0|            0|         Yes|Self-employed|         Rural|            91.54| 31.4|           0.0|     1|\n",
            "|224|     0|23.0|           0|            0|          No|      Private|         Urban|           110.16|29.14|           0.0|     0|\n",
            "|239|     1|59.0|           1|            1|         Yes|      Private|         Rural|           246.53| 27.2|          0.75|     0|\n",
            "|242|     1| 4.0|           0|            0|          No|     children|         Urban|            98.56| 17.5|           0.5|     0|\n",
            "|247|     1|31.0|           0|            0|          No|      Private|         Urban|             72.6| 31.6|           0.0|     0|\n",
            "|298|     0|41.0|           0|            0|         Yes|Self-employed|         Rural|            76.66|29.14|           0.5|     0|\n",
            "|315|     1|45.0|           0|            0|         Yes|      Private|         Rural|            65.42| 39.7|           0.0|     0|\n",
            "|321|     0|79.0|           0|            0|          No|Self-employed|         Rural|            71.98| 36.4|           0.0|     0|\n",
            "|347|     0|16.0|           0|            0|          No|      Private|         Urban|            89.45|29.14|           0.5|     0|\n",
            "|354|     0|65.0|           0|            0|         Yes|      Private|         Urban|            72.49| 28.9|           1.0|     0|\n",
            "+---+------+----+------------+-------------+------------+-------------+--------------+-----------------+-----+--------------+------+\n",
            "only showing top 20 rows\n",
            "\n"
          ]
        }
      ]
    },
    {
      "cell_type": "code",
      "metadata": {
        "id": "pWzG8fK-_g7B"
      },
      "source": [
        "vector_assembler = ml.VectorAssembler(inputCols=mixed_features, outputCol='features')"
      ],
      "id": "pWzG8fK-_g7B",
      "execution_count": null,
      "outputs": []
    },
    {
      "cell_type": "code",
      "metadata": {
        "id": "BESEYkGQ_gq0"
      },
      "source": [
        "lr = LogisticRegression(labelCol='stroke')"
      ],
      "id": "BESEYkGQ_gq0",
      "execution_count": null,
      "outputs": []
    },
    {
      "cell_type": "code",
      "metadata": {
        "id": "V1R1vL0EAwt0"
      },
      "source": [
        "pipeline = Pipeline(stages=[string_indexer, one_encoder, vector_assembler, lr])"
      ],
      "id": "V1R1vL0EAwt0",
      "execution_count": null,
      "outputs": []
    },
    {
      "cell_type": "code",
      "metadata": {
        "id": "CSFU_B6BA7lu"
      },
      "source": [
        "model=pipeline.fit(train_df)"
      ],
      "id": "CSFU_B6BA7lu",
      "execution_count": null,
      "outputs": []
    },
    {
      "cell_type": "markdown",
      "metadata": {
        "id": "a05c2677"
      },
      "source": [
        "### Perform predictions on tests dataframe:\n",
        "- Test the model using the test dataframe\n",
        "- Select and show the feature column.\n",
        "- Print the schema of the output dataframe.\n",
        "- Select and show both prediction and label columns.\n",
        "- Explore the results for the label column stroke=1. i.e. select both columns (prediction,stroke) for stroke=1.<b>notice the result.</b> \n",
        "- Count the predicted 1 and 0 values.<b>notice the result.</b>   "
      ],
      "id": "a05c2677"
    },
    {
      "cell_type": "code",
      "metadata": {
        "id": "p82VtrCqBZqy"
      },
      "source": [
        "pred = model.transform(test_df)"
      ],
      "id": "p82VtrCqBZqy",
      "execution_count": null,
      "outputs": []
    },
    {
      "cell_type": "code",
      "metadata": {
        "colab": {
          "base_uri": "https://localhost:8080/"
        },
        "id": "Qie_rnhWBie_",
        "outputId": "f87b2cdb-e7af-498e-fd24-72e89cd570ed"
      },
      "source": [
        "pred.select('features').show(5, truncate=False)"
      ],
      "id": "Qie_rnhWBie_",
      "execution_count": null,
      "outputs": [
        {
          "output_type": "stream",
          "name": "stdout",
          "text": [
            "+----------------------------------------------------------------------------------+\n",
            "|features                                                                          |\n",
            "+----------------------------------------------------------------------------------+\n",
            "|(13,[0,1,5,6,7,10,11],[1.0,1.0,1.0,1.0,55.0,89.16999816894531,31.5])              |\n",
            "|(13,[1,5,7,10,11],[1.0,1.0,24.0,97.55000305175781,26.200000762939453])            |\n",
            "|(13,[0,1,7,10,11],[1.0,1.0,33.0,86.97000122070312,42.20000076293945])             |\n",
            "|(13,[0,1,7,10,11,12],[1.0,1.0,43.0,88.2300033569336,37.599998474121094,0.5])      |\n",
            "|(13,[0,1,5,6,7,10,11],[1.0,1.0,1.0,1.0,79.0,198.7899932861328,24.899999618530273])|\n",
            "+----------------------------------------------------------------------------------+\n",
            "only showing top 5 rows\n",
            "\n"
          ]
        }
      ]
    },
    {
      "cell_type": "code",
      "metadata": {
        "id": "3ea267eb",
        "colab": {
          "base_uri": "https://localhost:8080/"
        },
        "outputId": "560adbf2-b74b-4b4f-e9b7-bca823eac662"
      },
      "source": [
        "pred.printSchema()"
      ],
      "id": "3ea267eb",
      "execution_count": null,
      "outputs": [
        {
          "output_type": "stream",
          "name": "stdout",
          "text": [
            "root\n",
            " |-- id: integer (nullable = true)\n",
            " |-- gender: integer (nullable = false)\n",
            " |-- age: float (nullable = true)\n",
            " |-- hypertension: integer (nullable = true)\n",
            " |-- heart_disease: integer (nullable = true)\n",
            " |-- ever_married: string (nullable = true)\n",
            " |-- work_type: string (nullable = true)\n",
            " |-- Residence_type: string (nullable = true)\n",
            " |-- avg_glucose_level: float (nullable = true)\n",
            " |-- bmi: float (nullable = false)\n",
            " |-- smoking_status: double (nullable = false)\n",
            " |-- stroke: integer (nullable = true)\n",
            " |-- ever_married_Index: double (nullable = false)\n",
            " |-- work_type_Index: double (nullable = false)\n",
            " |-- Residence_type_Index: double (nullable = false)\n",
            " |-- ever_married_OHE: vector (nullable = true)\n",
            " |-- work_type_OHE: vector (nullable = true)\n",
            " |-- Residence_type_OHE: vector (nullable = true)\n",
            " |-- features: vector (nullable = true)\n",
            " |-- rawPrediction: vector (nullable = true)\n",
            " |-- probability: vector (nullable = true)\n",
            " |-- prediction: double (nullable = false)\n",
            "\n"
          ]
        }
      ]
    },
    {
      "cell_type": "code",
      "metadata": {
        "scrolled": false,
        "id": "480d892e",
        "colab": {
          "base_uri": "https://localhost:8080/"
        },
        "outputId": "1d4f8c5d-bc89-4d5d-f43d-10dd8ae4cea1"
      },
      "source": [
        "pred.select('features','stroke').show(5)"
      ],
      "id": "480d892e",
      "execution_count": null,
      "outputs": [
        {
          "output_type": "stream",
          "name": "stdout",
          "text": [
            "+--------------------+------+\n",
            "|            features|stroke|\n",
            "+--------------------+------+\n",
            "|(13,[0,1,5,6,7,10...|     0|\n",
            "|(13,[1,5,7,10,11]...|     0|\n",
            "|(13,[0,1,7,10,11]...|     0|\n",
            "|(13,[0,1,7,10,11,...|     0|\n",
            "|(13,[0,1,5,6,7,10...|     0|\n",
            "+--------------------+------+\n",
            "only showing top 5 rows\n",
            "\n"
          ]
        }
      ]
    },
    {
      "cell_type": "code",
      "metadata": {
        "colab": {
          "base_uri": "https://localhost:8080/"
        },
        "id": "QWvK_dN9DTbu",
        "outputId": "3283936c-4f36-473a-987f-02eecec79653"
      },
      "source": [
        "pred.filter(pred['stroke'] == 0).count()"
      ],
      "id": "QWvK_dN9DTbu",
      "execution_count": null,
      "outputs": [
        {
          "output_type": "execute_result",
          "data": {
            "text/plain": [
              "907"
            ]
          },
          "metadata": {},
          "execution_count": 314
        }
      ]
    },
    {
      "cell_type": "code",
      "metadata": {
        "colab": {
          "base_uri": "https://localhost:8080/"
        },
        "id": "szh8FPCFDftz",
        "outputId": "196ff05e-7532-436f-ee7d-01bdcb92152b"
      },
      "source": [
        "pred.filter(pred['stroke'] == 1).count()"
      ],
      "id": "szh8FPCFDftz",
      "execution_count": null,
      "outputs": [
        {
          "output_type": "execute_result",
          "data": {
            "text/plain": [
              "46"
            ]
          },
          "metadata": {},
          "execution_count": 315
        }
      ]
    },
    {
      "cell_type": "markdown",
      "metadata": {
        "id": "daec120f"
      },
      "source": [
        "### Evaluate the model performance\n",
        "- Use <b>BinaryClassificationEvaluator</b>. This will calculate the <b>ROC</b>.\n",
        "- Set the parameters as follow:\n",
        "    - <b>rawPredictionCol='prediction'</b> and <b>labelCol='stroke'</b>"
      ],
      "id": "daec120f"
    },
    {
      "cell_type": "code",
      "metadata": {
        "id": "a7b5ad25"
      },
      "source": [
        "from pyspark.ml.evaluation import BinaryClassificationEvaluator"
      ],
      "id": "a7b5ad25",
      "execution_count": null,
      "outputs": []
    },
    {
      "cell_type": "code",
      "metadata": {
        "id": "44d3a1e6"
      },
      "source": [
        "evaluatorROC = BinaryClassificationEvaluator(rawPredictionCol='prediction'\n",
        "                                             ,labelCol='stroke')"
      ],
      "id": "44d3a1e6",
      "execution_count": null,
      "outputs": []
    },
    {
      "cell_type": "code",
      "metadata": {
        "colab": {
          "base_uri": "https://localhost:8080/"
        },
        "id": "_AyMAvUIDpKd",
        "outputId": "973db086-953b-4b52-ac4f-6c13db56dfea"
      },
      "source": [
        "evaluatorROC.evaluate(pred)"
      ],
      "id": "_AyMAvUIDpKd",
      "execution_count": null,
      "outputs": [
        {
          "output_type": "execute_result",
          "data": {
            "text/plain": [
              "0.5"
            ]
          },
          "metadata": {},
          "execution_count": 318
        }
      ]
    },
    {
      "cell_type": "markdown",
      "metadata": {
        "id": "40206589"
      },
      "source": [
        "### Improve Model Performance\n",
        "- You may noticed that <b>the target label is imbalanced</b>.\n",
        "- LogisticRegression classifier has a special parameter <b>weightCol</b> to deal with imbalanced class.\n",
        "- In order to use this parameter you must have a <b>weightCol</b> in your training dataframe.\n",
        "- In order to create this column you will need to define a <b>UDF</b> and apply it to the target label column.\n",
        "- Create a LogisticRegression classifier with <b>weightCol</b> parameter.\n",
        "- Build and train a pipeline model with the new LogisticRegression.\n",
        "- Perform the prediction on the test dataframe. \n",
        "- Select and show both prediction and label columns.\n",
        "- Explore the results for the label column stroke=1. i.e. select both columns (prediction,stroke) for stroke=1.<b>notice the result.</b> \n",
        "- Count the predicted 1 and 0 values.<b>notice the result.</b>   \n",
        "- Evaluate the model performance exactly as in the previous step.\n",
        "### YOU SHOULD OBTAIN  ROC > 0.65\n",
        "<BR>\n",
        "<b><font color='red'>Note: feel free to deal with the imbalanced cluster with the above method or another. However, you can only use methods applied on SPARK DATAFRAME</font></b>"
      ],
      "id": "40206589"
    },
    {
      "cell_type": "code",
      "metadata": {
        "id": "FBEjwruiEbEE"
      },
      "source": [
        "ratio = pred.filter(pred['stroke'] == 0).count() / pred.count()\n",
        "non_stroke_weight = 1 - ratio\n",
        "stroke_weight = ratio"
      ],
      "id": "FBEjwruiEbEE",
      "execution_count": null,
      "outputs": []
    },
    {
      "cell_type": "code",
      "metadata": {
        "colab": {
          "base_uri": "https://localhost:8080/"
        },
        "id": "foh8cKFaGjUZ",
        "outputId": "c621db56-3961-4fd4-f7a3-95580c753476"
      },
      "source": [
        "print(non_stroke_weight, stroke_weight)"
      ],
      "id": "foh8cKFaGjUZ",
      "execution_count": null,
      "outputs": [
        {
          "output_type": "stream",
          "name": "stdout",
          "text": [
            "0.04826862539349419 0.9517313746065058\n"
          ]
        }
      ]
    },
    {
      "cell_type": "code",
      "metadata": {
        "id": "lNCZqGlrG5mU"
      },
      "source": [
        " train_df = train_df.withColumn(\"weightCol\", when(df.stroke == 0, non_stroke_weight).when(df.stroke == 1, stroke_weight))"
      ],
      "id": "lNCZqGlrG5mU",
      "execution_count": null,
      "outputs": []
    },
    {
      "cell_type": "code",
      "metadata": {
        "id": "rUyeylVyIShy"
      },
      "source": [
        "lr_mod = LogisticRegression(labelCol='stroke', weightCol='weightCol')"
      ],
      "id": "rUyeylVyIShy",
      "execution_count": null,
      "outputs": []
    },
    {
      "cell_type": "code",
      "metadata": {
        "id": "vcsrthQnIfGW"
      },
      "source": [
        "pipeline = Pipeline(stages=[string_indexer, one_encoder, vector_assembler, lr_mod])"
      ],
      "id": "vcsrthQnIfGW",
      "execution_count": null,
      "outputs": []
    },
    {
      "cell_type": "code",
      "metadata": {
        "id": "weUKZlLvIe9p"
      },
      "source": [
        "model=pipeline.fit(train_df)"
      ],
      "id": "weUKZlLvIe9p",
      "execution_count": null,
      "outputs": []
    },
    {
      "cell_type": "code",
      "metadata": {
        "id": "XGNsNO49IezP"
      },
      "source": [
        "pred = model.transform(test_df)"
      ],
      "id": "XGNsNO49IezP",
      "execution_count": null,
      "outputs": []
    },
    {
      "cell_type": "code",
      "metadata": {
        "colab": {
          "base_uri": "https://localhost:8080/"
        },
        "id": "L_lBVsEuJQ33",
        "outputId": "bb65aab5-f94c-473c-c667-eb646d607ff7"
      },
      "source": [
        "pred.select('prediction','stroke').show(5)"
      ],
      "id": "L_lBVsEuJQ33",
      "execution_count": null,
      "outputs": [
        {
          "output_type": "stream",
          "name": "stdout",
          "text": [
            "+----------+------+\n",
            "|prediction|stroke|\n",
            "+----------+------+\n",
            "|       0.0|     0|\n",
            "|       0.0|     0|\n",
            "|       0.0|     0|\n",
            "|       0.0|     0|\n",
            "|       1.0|     0|\n",
            "+----------+------+\n",
            "only showing top 5 rows\n",
            "\n"
          ]
        }
      ]
    },
    {
      "cell_type": "code",
      "metadata": {
        "id": "00e034e9",
        "colab": {
          "base_uri": "https://localhost:8080/"
        },
        "outputId": "fff878d5-39d1-4b1b-e2bb-0e7f9773331d"
      },
      "source": [
        "pred.filter(pred['stroke'] == 0).count()"
      ],
      "id": "00e034e9",
      "execution_count": null,
      "outputs": [
        {
          "output_type": "execute_result",
          "data": {
            "text/plain": [
              "907"
            ]
          },
          "metadata": {},
          "execution_count": 327
        }
      ]
    },
    {
      "cell_type": "code",
      "metadata": {
        "id": "66efa0c6",
        "colab": {
          "base_uri": "https://localhost:8080/"
        },
        "outputId": "f3119e7e-8f86-47e4-c3c5-ec4e9c942cdd"
      },
      "source": [
        "pred.filter(pred['stroke'] == 1).count()"
      ],
      "id": "66efa0c6",
      "execution_count": null,
      "outputs": [
        {
          "output_type": "execute_result",
          "data": {
            "text/plain": [
              "46"
            ]
          },
          "metadata": {},
          "execution_count": 328
        }
      ]
    },
    {
      "cell_type": "code",
      "metadata": {
        "id": "4e8c18b5",
        "colab": {
          "base_uri": "https://localhost:8080/"
        },
        "outputId": "7b2b87ea-3bbd-46f8-fe03-f4d42c32bcfc"
      },
      "source": [
        "evaluatorROC.evaluate(pred)"
      ],
      "id": "4e8c18b5",
      "execution_count": null,
      "outputs": [
        {
          "output_type": "execute_result",
          "data": {
            "text/plain": [
              "0.7838909927616124"
            ]
          },
          "metadata": {},
          "execution_count": 329
        }
      ]
    },
    {
      "cell_type": "markdown",
      "metadata": {
        "id": "e00e7b53"
      },
      "source": [
        "# GOOD LUCK\n",
        "<b><font color='GREEN'>AI-PRO Spark Team ITI</font></b>"
      ],
      "id": "e00e7b53"
    },
    {
      "cell_type": "markdown",
      "metadata": {
        "id": "0e065922"
      },
      "source": [
        "![image-3.png](attachment:image-3.png)"
      ],
      "id": "0e065922"
    }
  ]
}